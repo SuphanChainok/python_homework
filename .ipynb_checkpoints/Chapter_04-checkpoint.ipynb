{
 "cells": [
  {
   "cell_type": "markdown",
   "metadata": {},
   "source": [
    "# แบบฝึกหัดบทที่ 4 พื้นฐานโปรแกรมไพธอน"
   ]
  },
  {
   "cell_type": "code",
   "execution_count": null,
   "metadata": {},
   "outputs": [],
   "source": [
    "\"\"\" \n",
    "ชื่อ - สกุล - รหัสนักศึกษา\n",
    "\n",
    "สุพัน ชัยนอก 6612732136\n",
    "\"\"\""
   ]
  },
  {
   "cell_type": "markdown",
   "metadata": {},
   "source": [
    "## 1. จงอธิบายความหมายของคำว่า Syntax"
   ]
  },
  {
   "cell_type": "markdown",
   "metadata": {},
   "source": [
    "# คำตอบ\n",
    "หลักไวยากรณ์ คือ ข้อกำหนดในการเขียนโปรแกรมที่ตัวแปรภาษาสามารถประมวลผล และเข้าใจได้\n"
   ]
  },
  {
   "cell_type": "markdown",
   "metadata": {},
   "source": [
    "## 2.จงอธิบายความหมายของคำว่า Semantics"
   ]
  },
  {
   "cell_type": "code",
   "execution_count": null,
   "metadata": {},
   "outputs": [],
   "source": [
    "# คำตอบ\n",
    "Semantics มาจากค าว่า sema. หมายถึง สัญลักษณ์ + semaino หมายถึง การให้ความหมาย รวมกันหมายถึง ความหมายของสัญลักษณ์ คือตัวภาษา ดังนั้น วิชาที่ว่าด้วยการศึกษาความหมายของภาษา หรือ อรรถศาสตร์"
   ]
  },
  {
   "cell_type": "markdown",
   "metadata": {},
   "source": [
    "## 3.Identifiers คืออะไร"
   ]
  },
  {
   "cell_type": "code",
   "execution_count": null,
   "metadata": {},
   "outputs": [],
   "source": [
    "# คำตอบ\n",
    "Identifiers หมายถึง ชื่อที่ใชBในการระบุตัวแปร ฟdงกEชัน คลาส โมดูล หรือวัตถุอื่น ๆ\n",
    "Identifiers เริ่มตBนดBวยตัวอักษร A ถึง Z หรือจาก a ถึง z หรือเครื่องหมายขีดลRาง (_) และสามารถ\n",
    "ตามดBวยตัวอักษรตั้งแตRหนึ่งตัวหรือมากกวRา หรืออาจตามดBวยเครื่องหมายเครื่องหมายขีดลRาง\n",
    "หรือตามดBวยตัวเลขตั้งแตR 0 ถึง 9 โดยไพธอนไมRอนุญาตใหBใชBอักขระพิเศษภายใน Identifiers\n",
    "เชRน @, $ และ %"
   ]
  },
  {
   "cell_type": "markdown",
   "metadata": {},
   "source": [
    "## 4.คำสงวนในภาษาไพธอนคืออะไร และมีทั้งหมดกี่คำ"
   ]
  },
  {
   "cell_type": "code",
   "execution_count": null,
   "metadata": {},
   "outputs": [],
   "source": [
    "# คำตอบ\n",
    "\n",
    "คำสงวน คือชื่อหรือคำที่ภาษา Python (ไพทอน) ไว้ใช้เฉพาะเพื่อเป็นคำสั่ง หรือมีไว้เพื่อเขียนเป็นโครงสร้างของตัวภาษาเอง โดยคำสงวนของ Python จะมีทั้งหมด 31 คำ ดังนี้ and. del. from."
   ]
  },
  {
   "cell_type": "markdown",
   "metadata": {},
   "source": [
    "## 5.จงเขียนโปรแกรมไพธอนเพื่อรับข้อมูล ที่เป็นชื่อผู้ใช้งานจากแป้นพิมพ์และแสดงออกทางหน้าจอ"
   ]
  },
  {
   "cell_type": "code",
   "execution_count": 9,
   "metadata": {
    "tags": []
   },
   "outputs": [
    {
     "name": "stdin",
     "output_type": "stream",
     "text": [
      "your name Suphan Chainok\n"
     ]
    },
    {
     "name": "stdout",
     "output_type": "stream",
     "text": [
      "Suphan Chainok\n"
     ]
    }
   ],
   "source": [
    "# พิมพ์โค้ดโปรแกรมด้านล่างนี้\n",
    "a = input(\"your name\")\n",
    "\n",
    "print(a)"
   ]
  },
  {
   "cell_type": "markdown",
   "metadata": {},
   "source": [
    "## 6.จงเขียนโปรแกรมเพื่อแสดงค่าของ pi คือ 3.14159 ออกทางหน้าจอโดยทำการกำหนดรูปแบบในการแสดงผลดังต่อไปนี้\n",
    "\n",
    "- pi = 3\n",
    "- pi = 3.14\n",
    "- pi = 3.1416\n"
   ]
  },
  {
   "cell_type": "code",
   "execution_count": 5,
   "metadata": {
    "tags": []
   },
   "outputs": [
    {
     "name": "stdout",
     "output_type": "stream",
     "text": [
      "Sammy ate 3.141600\n",
      "Sammy ate 3.14\n",
      "Sammy ate 3.1416\n"
     ]
    }
   ],
   "source": [
    "# พิมพ์โค้ดโปรแกรมด้านล่างนี้\n",
    "pi = 3.1416\n",
    "\n",
    "print(\"Sammy ate {0:f}\".format(pi))\n",
    "\n",
    "print(\"Sammy ate {0:.2f}\".format(pi))\n",
    "\n",
    "print(\"Sammy ate {0:.4f}\".format(pi))\n"
   ]
  },
  {
   "cell_type": "markdown",
   "metadata": {},
   "source": []
  },
  {
   "cell_type": "markdown",
   "metadata": {},
   "source": [
    "## 7.\tจงเขียนโปรแกรมที่แสดงคำว่า \"dog\", \"cat\", \"bat\" ออกทางหน้าจอ โดยกำหนดรูปแบบในการแสดงดังต่อไปนี้"
   ]
  },
  {
   "cell_type": "code",
   "execution_count": null,
   "metadata": {},
   "outputs": [],
   "source": [
    "\"\"\" \n",
    "|dog       |   cat    |       bat| \n",
    "\"\"\""
   ]
  },
  {
   "cell_type": "code",
   "execution_count": 6,
   "metadata": {
    "tags": []
   },
   "outputs": [
    {
     "name": "stdout",
     "output_type": "stream",
     "text": [
      "|dog       |   cat   |       bat\n"
     ]
    }
   ],
   "source": [
    "# พิมพ์โค้ดโปรแกรมด้านล่างนี้\n",
    "\n",
    "print(\"|{0:<10}|{1:^9}|{2:>10}\".format(\"dog\",\"cat\",\"bat\"))"
   ]
  },
  {
   "cell_type": "markdown",
   "metadata": {},
   "source": [
    "## 8.\tจงเขียนโปรแกรมที่แสดงคำว่า \"dog\", \"cat\", \"bat\" ออกทางหน้าจอ โดยกำหนดรูปแบบในการแสดงดังต่อไปนี้"
   ]
  },
  {
   "cell_type": "code",
   "execution_count": null,
   "metadata": {},
   "outputs": [],
   "source": [
    "\"\"\" \n",
    "|dog*******|***cat****|*******bat| \n",
    "\"\"\""
   ]
  },
  {
   "cell_type": "code",
   "execution_count": 11,
   "metadata": {
    "tags": []
   },
   "outputs": [
    {
     "name": "stdout",
     "output_type": "stream",
     "text": [
      "|dog*******|***cat****|*******bat|\n"
     ]
    }
   ],
   "source": [
    "# พิมพ์โค้ดโปรแกรมด้านล่างนี้\n",
    "print(\"|{0:*<10s}|{1:*^10s}|{2:*>10s}|\".format(\"dog\",\"cat\",\"bat\"))"
   ]
  },
  {
   "cell_type": "code",
   "execution_count": null,
   "metadata": {},
   "outputs": [],
   "source": []
  }
 ],
 "metadata": {
  "interpreter": {
   "hash": "40d3a090f54c6569ab1632332b64b2c03c39dcf918b08424e98f38b5ae0af88f"
  },
  "kernelspec": {
   "display_name": "Python 3 (ipykernel)",
   "language": "python",
   "name": "python3"
  },
  "language_info": {
   "codemirror_mode": {
    "name": "ipython",
    "version": 3
   },
   "file_extension": ".py",
   "mimetype": "text/x-python",
   "name": "python",
   "nbconvert_exporter": "python",
   "pygments_lexer": "ipython3",
   "version": "3.11.5"
  }
 },
 "nbformat": 4,
 "nbformat_minor": 4
}
