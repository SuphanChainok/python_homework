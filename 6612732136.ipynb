{
 "cells": [
  {
   "cell_type": "code",
   "execution_count": 1,
   "id": "44dc87cf-ddfa-45ea-b062-dc569945f26f",
   "metadata": {
    "tags": []
   },
   "outputs": [
    {
     "name": "stdout",
     "output_type": "stream",
     "text": [
      " * \n",
      " *  * \n",
      " *  *  * \n",
      " *  *  *  * \n",
      " *  *  *  *  * \n"
     ]
    }
   ],
   "source": [
    "#ข้อที่1\n",
    "for i in range (1, 6):\n",
    "    print (\" * \" * i)"
   ]
  },
  {
   "cell_type": "code",
   "execution_count": 59,
   "id": "3f9bf0d6-ca82-498c-885d-e8970c413542",
   "metadata": {
    "tags": []
   },
   "outputs": [
    {
     "name": "stdout",
     "output_type": "stream",
     "text": [
      "           *\n",
      "         * *\n",
      "       * * *\n",
      "     * * * *\n",
      "   * * * * *\n",
      " * * * * * *\n"
     ]
    }
   ],
   "source": [
    "#ข้อที่2\n",
    "num = 6\n",
    "end = num -1\n",
    "for i in range(0, num):\n",
    "    for j in range(0, num):\n",
    "        if j >= end - i:\n",
    "            print(\" *\", end=\"\")\n",
    "        else:\n",
    "            print(\"  \", end=\"\")\n",
    "    print()"
   ]
  },
  {
   "cell_type": "markdown",
   "id": "2449b888-35fb-4d85-8449-473447c6598f",
   "metadata": {
    "tags": []
   },
   "source": [
    "#### ข้อที3"
   ]
  },
  {
   "cell_type": "code",
   "execution_count": 19,
   "id": "d9dd1e5e-2943-4bea-b95a-999ede2e5095",
   "metadata": {
    "tags": []
   },
   "outputs": [
    {
     "name": "stdout",
     "output_type": "stream",
     "text": [
      " *  *  *  *  *  * \n",
      " *  *  *  *  * \n",
      " *  *  *  * \n",
      " *  *  * \n",
      " *  * \n",
      " * \n"
     ]
    }
   ],
   "source": [
    "for i in range (6,0,-1):\n",
    "    print (\" * \" * i)"
   ]
  },
  {
   "cell_type": "code",
   "execution_count": 66,
   "id": "20b5e330-a5cd-46c9-a78c-4b4a96ddd24d",
   "metadata": {
    "tags": []
   },
   "outputs": [
    {
     "name": "stdout",
     "output_type": "stream",
     "text": [
      "  *   *   *   *   *   * \n",
      "    *   *   *   *   * \n",
      "      *   *   *   * \n",
      "        *   *   * \n",
      "          *   * \n",
      "            * \n",
      "            \n",
      "            \n",
      "            \n",
      "            \n",
      "            \n"
     ]
    }
   ],
   "source": [
    "#ข้อที่4\n",
    "num = 6\n",
    "end = num -1\n",
    "for i in range(-5, num):\n",
    "    for j in range(0, num):\n",
    "        if j >= end + i:\n",
    "            print(\"  *\", end=\" \")\n",
    "        else:\n",
    "            print(\"  \", end=\"\")\n",
    "    print()"
   ]
  },
  {
   "cell_type": "code",
   "execution_count": null,
   "id": "05b2e1bd-0d15-467a-8ecc-df56d2bec13c",
   "metadata": {},
   "outputs": [],
   "source": []
  }
 ],
 "metadata": {
  "kernelspec": {
   "display_name": "Python 3 (ipykernel)",
   "language": "python",
   "name": "python3"
  },
  "language_info": {
   "codemirror_mode": {
    "name": "ipython",
    "version": 3
   },
   "file_extension": ".py",
   "mimetype": "text/x-python",
   "name": "python",
   "nbconvert_exporter": "python",
   "pygments_lexer": "ipython3",
   "version": "3.11.5"
  }
 },
 "nbformat": 4,
 "nbformat_minor": 5
}
